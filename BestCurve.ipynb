{
 "cells": [
  {
   "cell_type": "code",
   "execution_count": 1,
   "metadata": {
    "collapsed": true
   },
   "outputs": [],
   "source": [
    "p =  12037340738208845034383383978222801137092029451270197923071397735408251586669938291587857560356890516069961904754171956588530344066457839297755929645858769"
   ]
  },
  {
   "cell_type": "code",
   "execution_count": 2,
   "metadata": {
    "collapsed": true
   },
   "outputs": [],
   "source": [
    "a =  11116464848863953015404579872882615582435721470072701808037226672236659358145861235530764279830938006566253824939581765595814774014481950202045501019370057"
   ]
  },
  {
   "cell_type": "code",
   "execution_count": 3,
   "metadata": {
    "collapsed": true
   },
   "outputs": [],
   "source": [
    "b =  7929994832424543515682621940590901949591050994041239823498965175036014605541969152503725727477980546149790133670177545414851226849642510122057033563808087"
   ]
  },
  {
   "cell_type": "code",
   "execution_count": 4,
   "metadata": {
    "collapsed": true
   },
   "outputs": [],
   "source": [
    "F = GF(p)"
   ]
  },
  {
   "cell_type": "code",
   "execution_count": 5,
   "metadata": {
    "collapsed": false
   },
   "outputs": [
    {
     "data": {
      "text/plain": [
       "Elliptic Curve defined by y^2 = x^3 + 11116464848863953015404579872882615582435721470072701808037226672236659358145861235530764279830938006566253824939581765595814774014481950202045501019370057*x + 7929994832424543515682621940590901949591050994041239823498965175036014605541969152503725727477980546149790133670177545414851226849642510122057033563808087 over Finite Field of size 12037340738208845034383383978222801137092029451270197923071397735408251586669938291587857560356890516069961904754171956588530344066457839297755929645858769"
      ]
     },
     "execution_count": 5,
     "metadata": {},
     "output_type": "execute_result"
    }
   ],
   "source": [
    "E0 = EllipticCurve([0, 0, 0, F(a), F(b)])\n",
    "E0"
   ]
  },
  {
   "cell_type": "code",
   "execution_count": 6,
   "metadata": {
    "collapsed": false
   },
   "outputs": [
    {
     "data": {
      "text/plain": [
       "12037340738208845034383383978222801137092029451270197923071397735408251586670085481138030088461790938201874171652771344144043268298219947026188471598838060"
      ]
     },
     "execution_count": 6,
     "metadata": {},
     "output_type": "execute_result"
    }
   ],
   "source": [
    "E0.cardinality()"
   ]
  },
  {
   "cell_type": "code",
   "execution_count": 8,
   "metadata": {
    "collapsed": false
   },
   "outputs": [],
   "source": [
    "def is_elkies(ell):\n",
    "    t = E0.trace_of_frobenius()\n",
    "    if ell == 2:\n",
    "        return False\n",
    "    else:\n",
    "        return (t**2 - 4 * p).jacobi(ell) == 1"
   ]
  },
  {
   "cell_type": "code",
   "execution_count": 14,
   "metadata": {
    "collapsed": true
   },
   "outputs": [],
   "source": [
    "def frob_eigenvalues(ell):\n",
    "    assert is_elkies(ell)\n",
    "    t = E0.trace_of_frobenius()\n",
    "    X = PolynomialRing(GF(ell), \"X\").gen()\n",
    "    v1, v2 = (X**2 - t*X + p).roots(multiplicities=False)\n",
    "    return v1, v2"
   ]
  },
  {
   "cell_type": "code",
   "execution_count": 27,
   "metadata": {
    "collapsed": false
   },
   "outputs": [],
   "source": [
    "def is_torsion_order(ell, d):\n",
    "    if is_elkies(ell):\n",
    "        v1, v2 = frob_eigenvalues(ell)\n",
    "        d1 = v1.multiplicative_order()\n",
    "        d2 = v2.multiplicative_order()\n",
    "        return (d1 == d and d2 > d) or (d1 > d and d2 == d)\n",
    "    else:\n",
    "        return False"
   ]
  },
  {
   "cell_type": "code",
   "execution_count": null,
   "metadata": {
    "collapsed": true
   },
   "outputs": [],
   "source": [
    "#Time to compute isogenies"
   ]
  },
  {
   "cell_type": "code",
   "execution_count": 136,
   "metadata": {
    "collapsed": false
   },
   "outputs": [
    {
     "name": "stdout",
     "output_type": "stream",
     "text": [
      "[3, 5, 7, 11, 13, 17, 103]\n",
      "[523, 821, 947, 1723]\n"
     ]
    }
   ],
   "source": [
    "both_sides = dict()\n",
    "one_side = dict()\n",
    "both_sides[0.02] = [ell for ell in prime_range(2, 380) if is_torsion_order(ell, 1)]\n",
    "one_side[0.02] = [ell for ell in prime_range(381, 2000) if is_torsion_order(ell, 1) or is_torsion_order(ell, 2)]\n",
    "print both_sides[0.02]\n",
    "print one_side[0.02]"
   ]
  },
  {
   "cell_type": "code",
   "execution_count": 137,
   "metadata": {
    "collapsed": false
   },
   "outputs": [],
   "source": [
    "one_side[0.1] = [ell for ell in prime_range(2, 2000) if is_torsion_order(ell, 3) and 7/800 * ell > 0.1]\n",
    "one_side[0.15] = [ell for ell in prime_range(2, 2000) if is_torsion_order(ell, 4) and 7/800 * ell > 0.15]\n",
    "one_side[0.24] = [ell for ell in prime_range(2, 2000) if is_torsion_order(ell, 5) and 7/800 * ell > 0.24]\n",
    "one_side[0.8] = [ell for ell in prime_range(2, 2000) if is_torsion_order(ell, 7) and 7/800 * ell > 0.8]\n",
    "one_side[1.15] = [ell for ell in prime_range(2, 2000) if is_torsion_order(ell, 8) and 7/800 * ell > 1.15]\n",
    "one_side[1.3] = [ell for ell in prime_range(2, 2000) if is_torsion_order(ell, 9) and 7/800 * ell > 1.3]\n",
    "for ell in prime_range(2, 1000):\n",
    "    if is_elkies(ell):\n",
    "        skip = False\n",
    "        for t in one_side.keys():\n",
    "            if ell in one_side[t]:\n",
    "                skip = True\n",
    "        if is_torsion_order(ell, 1):\n",
    "            skip = True\n",
    "        if not skip:\n",
    "            t = n(3.5/200 * ell)\n",
    "            both_sides[t] = [ell]"
   ]
  },
  {
   "cell_type": "code",
   "execution_count": 138,
   "metadata": {
    "collapsed": false
   },
   "outputs": [
    {
     "name": "stdout",
     "output_type": "stream",
     "text": [
      "{7.85750000000000: [449], 0.752500000000000: [43], 10.4825000000000: [599], 16.9225000000000: [967], 10.5175000000000: [601], 6.52750000000000: [373], 12.7225000000000: [727], 9.95750000000000: [569], 15.9425000000000: [911], 0.507500000000000: [29], 11.2525000000000: [643], 8.52250000000000: [487], 0.822500000000000: [47], 3.90250000000000: [223], 9.99250000000000: [571], 17.4475000000000: [997], 16.2575000000000: [929], 13.9475000000000: [797], 5.37250000000000: [307], 2.74750000000000: [157], 3.44750000000000: [197], 10.8325000000000: [619], 5.12750000000000: [293], 4.95250000000000: [283], 7.99750000000000: [457], 6.28250000000000: [359], 9.11750000000000: [521], 1.97750000000000: [113], 5.54750000000000: [317], 4.21750000000000: [241], 14.5075000000000: [829], 0.647500000000000: [37], 16.3975000000000: [937], 15.3475000000000: [877], 15.5225000000000: [887], 12.0925000000000: [691], 12.2675000000000: [701], 0.0200000000000000: [3, 5, 7, 11, 13, 17, 103], 13.3175000000000: [761], 7.36750000000000: [421], 2.92250000000000: [167], 4.49750000000000: [257], 1.87250000000000: [107], 7.57750000000000: [433], 8.73250000000000: [499], 7.75250000000000: [443], 8.17250000000000: [467], 12.9325000000000: [739], 11.9525000000000: [683], 3.37750000000000: [193], 15.1025000000000: [863], 1.24250000000000: [71], 10.6225000000000: [607], 6.70250000000000: [383], 15.0325000000000: [859], 15.4525000000000: [883], 4.84750000000000: [277], 11.5325000000000: [659], 16.9925000000000: [971], 3.34250000000000: [191], 1.27750000000000: [73], 7.54250000000000: [431], 9.46750000000000: [541], 11.2175000000000: [641], 1.90750000000000: [109], 15.8725000000000: [907], 4.00750000000000: [229], 14.1575000000000: [809], 6.10750000000000: [349], 4.39250000000000: [251], 0.717500000000000: [41], 0.402500000000000: [23], 2.64250000000000: [151], 7.68250000000000: [439], 10.2725000000000: [587], 2.29250000000000: [131], 13.1425000000000: [751], 2.85250000000000: [163], 1.55750000000000: [89], 17.2025000000000: [983], 7.01750000000000: [401], 17.0975000000000: [977]}\n",
      "{0.100000000000000: [19, 661], 0.800000000000000: [547], 0.150000000000000: [1013, 1181], 0.240000000000000: [31, 61, 1321], 1.30000000000000: [1693], 1.15000000000000: [881], 0.0200000000000000: [523, 821, 947, 1723]}\n"
     ]
    }
   ],
   "source": [
    "print both_sides\n",
    "print one_side"
   ]
  },
  {
   "cell_type": "code",
   "execution_count": 139,
   "metadata": {
    "collapsed": true
   },
   "outputs": [],
   "source": [
    "# Finding tje correct number of steps for each prime\n",
    "def try_max_time_for_each_prime(T):\n",
    "    KSS = 1 #key space size\n",
    "    TT = 0.0 #total time for a walk\n",
    "    steps = dict()\n",
    "    #both sides\n",
    "    for t in both_sides.keys():\n",
    "        nsteps = (T/t).floor()\n",
    "        for ell in both_sides[t]:\n",
    "            steps[ell] = nsteps\n",
    "            KSS *= (2*nsteps + 1)\n",
    "            TT += nsteps * t\n",
    "    #one side\n",
    "    for t in one_side.keys():\n",
    "        nsteps = (T/t).floor()\n",
    "        for ell in one_side[t]:\n",
    "            steps[ell] = nsteps\n",
    "            KSS *= (nsteps + 1)\n",
    "            TT += nsteps * t\n",
    "    return KSS >= 2**256, KSS, n(KSS.log(2)), TT, steps"
   ]
  },
  {
   "cell_type": "code",
   "execution_count": 144,
   "metadata": {
    "collapsed": false
   },
   "outputs": [
    {
     "data": {
      "text/plain": [
       "(True,\n",
       " 316015647387021420523928003230789145321453269344234884580485478515625000000000,\n",
       " 257.448459300960,\n",
       " 464.955000000000,\n",
       " {3: 409,\n",
       "  5: 409,\n",
       "  7: 409,\n",
       "  11: 409,\n",
       "  13: 409,\n",
       "  17: 409,\n",
       "  19: 81,\n",
       "  23: 20,\n",
       "  29: 16,\n",
       "  31: 34,\n",
       "  37: 12,\n",
       "  41: 11,\n",
       "  43: 10,\n",
       "  47: 9,\n",
       "  61: 34,\n",
       "  71: 6,\n",
       "  73: 6,\n",
       "  89: 5,\n",
       "  103: 409,\n",
       "  107: 4,\n",
       "  109: 4,\n",
       "  113: 4,\n",
       "  131: 3,\n",
       "  151: 3,\n",
       "  157: 2,\n",
       "  163: 2,\n",
       "  167: 2,\n",
       "  191: 2,\n",
       "  193: 2,\n",
       "  197: 2,\n",
       "  223: 2,\n",
       "  229: 2,\n",
       "  241: 1,\n",
       "  251: 1,\n",
       "  257: 1,\n",
       "  277: 1,\n",
       "  283: 1,\n",
       "  293: 1,\n",
       "  307: 1,\n",
       "  317: 1,\n",
       "  349: 1,\n",
       "  359: 1,\n",
       "  373: 1,\n",
       "  383: 1,\n",
       "  401: 1,\n",
       "  421: 1,\n",
       "  431: 1,\n",
       "  433: 1,\n",
       "  439: 1,\n",
       "  443: 1,\n",
       "  449: 1,\n",
       "  457: 1,\n",
       "  467: 1,\n",
       "  487: 0,\n",
       "  499: 0,\n",
       "  521: 0,\n",
       "  523: 409,\n",
       "  541: 0,\n",
       "  547: 10,\n",
       "  569: 0,\n",
       "  571: 0,\n",
       "  587: 0,\n",
       "  599: 0,\n",
       "  601: 0,\n",
       "  607: 0,\n",
       "  619: 0,\n",
       "  641: 0,\n",
       "  643: 0,\n",
       "  659: 0,\n",
       "  661: 81,\n",
       "  683: 0,\n",
       "  691: 0,\n",
       "  701: 0,\n",
       "  727: 0,\n",
       "  739: 0,\n",
       "  751: 0,\n",
       "  761: 0,\n",
       "  797: 0,\n",
       "  809: 0,\n",
       "  821: 409,\n",
       "  829: 0,\n",
       "  859: 0,\n",
       "  863: 0,\n",
       "  877: 0,\n",
       "  881: 7,\n",
       "  883: 0,\n",
       "  887: 0,\n",
       "  907: 0,\n",
       "  911: 0,\n",
       "  929: 0,\n",
       "  937: 0,\n",
       "  947: 409,\n",
       "  967: 0,\n",
       "  971: 0,\n",
       "  977: 0,\n",
       "  983: 0,\n",
       "  997: 0,\n",
       "  1013: 54,\n",
       "  1181: 54,\n",
       "  1321: 34,\n",
       "  1693: 6,\n",
       "  1723: 409})"
      ]
     },
     "execution_count": 144,
     "metadata": {},
     "output_type": "execute_result"
    }
   ],
   "source": [
    "try_max_time_for_each_prime(8.2)"
   ]
  },
  {
   "cell_type": "code",
   "execution_count": null,
   "metadata": {
    "collapsed": true
   },
   "outputs": [],
   "source": []
  }
 ],
 "metadata": {
  "kernelspec": {
   "display_name": "SageMath 8.0",
   "language": "",
   "name": "sagemath"
  },
  "language_info": {
   "codemirror_mode": {
    "name": "ipython",
    "version": 2
   },
   "file_extension": ".py",
   "mimetype": "text/x-python",
   "name": "python",
   "nbconvert_exporter": "python",
   "pygments_lexer": "ipython2",
   "version": "2.7.13"
  }
 },
 "nbformat": 4,
 "nbformat_minor": 2
}
